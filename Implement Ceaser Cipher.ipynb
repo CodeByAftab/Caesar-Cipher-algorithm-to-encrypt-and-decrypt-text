{
 "cells": [
  {
   "cell_type": "code",
   "execution_count": 1,
   "id": "3150873c-c3c4-44e3-87b9-07ad3dae7061",
   "metadata": {},
   "outputs": [
    {
     "name": "stdout",
     "output_type": "stream",
     "text": [
      "Caesar Cipher Algorithm\n",
      "1. Encrypt\n",
      "2. Decrypt\n"
     ]
    },
    {
     "name": "stdin",
     "output_type": "stream",
     "text": [
      "Choose an option (1 or 2):  1\n",
      "Enter the text to encrypt:  Aftab\n",
      "Enter the shift value:  2\n"
     ]
    },
    {
     "name": "stdout",
     "output_type": "stream",
     "text": [
      "Encrypted Text: Chvcd\n"
     ]
    }
   ],
   "source": [
    "def caesar_cipher_encrypt(text, shift):\n",
    "    encrypted_text = \"\"\n",
    "    for char in text:\n",
    "        if char.isalpha():\n",
    "            shift_amount = shift % 26\n",
    "            new_char = chr((ord(char) - 65 + shift_amount) % 26 + 65) if char.isupper() else chr((ord(char) - 97 + shift_amount) % 26 + 97)\n",
    "            encrypted_text += new_char\n",
    "        else:\n",
    "            encrypted_text += char\n",
    "    return encrypted_text\n",
    "\n",
    "def caesar_cipher_decrypt(text, shift):\n",
    "    decrypted_text = \"\"\n",
    "    for char in text:\n",
    "        if char.isalpha():\n",
    "            shift_amount = shift % 26\n",
    "            new_char = chr((ord(char) - 65 - shift_amount) % 26 + 65) if char.isupper() else chr((ord(char) - 97 - shift_amount) % 26 + 97)\n",
    "            decrypted_text += new_char\n",
    "        else:\n",
    "            decrypted_text += char\n",
    "    return decrypted_text\n",
    "\n",
    "def main():\n",
    "    print(\"Caesar Cipher Algorithm\")\n",
    "    print(\"1. Encrypt\")\n",
    "    print(\"2. Decrypt\")\n",
    "    choice = input(\"Choose an option (1 or 2): \")\n",
    "\n",
    "    if choice == \"1\":\n",
    "        text = input(\"Enter the text to encrypt: \")\n",
    "        shift = int(input(\"Enter the shift value: \"))\n",
    "        encrypted_text = caesar_cipher_encrypt(text, shift)\n",
    "        print(\"Encrypted Text:\", encrypted_text)\n",
    "    elif choice == \"2\":\n",
    "        text = input(\"Enter the text to decrypt: \")\n",
    "        shift = int(input(\"Enter the shift value: \"))\n",
    "        decrypted_text = caesar_cipher_decrypt(text, shift)\n",
    "        print(\"Decrypted Text:\", decrypted_text)\n",
    "    else:\n",
    "        print(\"Invalid choice. Please choose 1 or 2.\")\n",
    "\n",
    "if __name__ == \"__main__\":\n",
    "    main()\n"
   ]
  },
  {
   "cell_type": "code",
   "execution_count": 2,
   "id": "28affec3-ee9d-41ca-ae27-c77f15ee1009",
   "metadata": {},
   "outputs": [
    {
     "name": "stdout",
     "output_type": "stream",
     "text": [
      "Caesar Cipher Algorithm\n",
      "1. Encrypt\n",
      "2. Decrypt\n"
     ]
    },
    {
     "name": "stdin",
     "output_type": "stream",
     "text": [
      "Choose an option (1 or 2):  2\n",
      "Enter the text to decrypt:  Chvcd\n",
      "Enter the shift value:  2\n"
     ]
    },
    {
     "name": "stdout",
     "output_type": "stream",
     "text": [
      "Decrypted Text: Aftab\n"
     ]
    }
   ],
   "source": [
    "def caesar_cipher_encrypt(text, shift):\n",
    "    encrypted_text = \"\"\n",
    "    for char in text:\n",
    "        if char.isalpha():\n",
    "            shift_amount = shift % 26\n",
    "            new_char = chr((ord(char) - 65 + shift_amount) % 26 + 65) if char.isupper() else chr((ord(char) - 97 + shift_amount) % 26 + 97)\n",
    "            encrypted_text += new_char\n",
    "        else:\n",
    "            encrypted_text += char\n",
    "    return encrypted_text\n",
    "\n",
    "def caesar_cipher_decrypt(text, shift):\n",
    "    decrypted_text = \"\"\n",
    "    for char in text:\n",
    "        if char.isalpha():\n",
    "            shift_amount = shift % 26\n",
    "            new_char = chr((ord(char) - 65 - shift_amount) % 26 + 65) if char.isupper() else chr((ord(char) - 97 - shift_amount) % 26 + 97)\n",
    "            decrypted_text += new_char\n",
    "        else:\n",
    "            decrypted_text += char\n",
    "    return decrypted_text\n",
    "\n",
    "def main():\n",
    "    print(\"Caesar Cipher Algorithm\")\n",
    "    print(\"1. Encrypt\")\n",
    "    print(\"2. Decrypt\")\n",
    "    choice = input(\"Choose an option (1 or 2): \")\n",
    "\n",
    "    if choice == \"1\":\n",
    "        text = input(\"Enter the text to encrypt: \")\n",
    "        shift = int(input(\"Enter the shift value: \"))\n",
    "        encrypted_text = caesar_cipher_encrypt(text, shift)\n",
    "        print(\"Encrypted Text:\", encrypted_text)\n",
    "    elif choice == \"2\":\n",
    "        text = input(\"Enter the text to decrypt: \")\n",
    "        shift = int(input(\"Enter the shift value: \"))\n",
    "        decrypted_text = caesar_cipher_decrypt(text, shift)\n",
    "        print(\"Decrypted Text:\", decrypted_text)\n",
    "    else:\n",
    "        print(\"Invalid choice. Please choose 1 or 2.\")\n",
    "\n",
    "if __name__ == \"__main__\":\n",
    "    main()\n"
   ]
  },
  {
   "cell_type": "code",
   "execution_count": null,
   "id": "3da4ec62-6262-4fc1-b6e4-bc9d71e6376c",
   "metadata": {},
   "outputs": [],
   "source": []
  }
 ],
 "metadata": {
  "kernelspec": {
   "display_name": "Python 3 (ipykernel)",
   "language": "python",
   "name": "python3"
  },
  "language_info": {
   "codemirror_mode": {
    "name": "ipython",
    "version": 3
   },
   "file_extension": ".py",
   "mimetype": "text/x-python",
   "name": "python",
   "nbconvert_exporter": "python",
   "pygments_lexer": "ipython3",
   "version": "3.12.4"
  }
 },
 "nbformat": 4,
 "nbformat_minor": 5
}
